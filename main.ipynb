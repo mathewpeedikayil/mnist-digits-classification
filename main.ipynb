{
 "cells": [
  {
   "cell_type": "markdown",
   "id": "507e7b0c",
   "metadata": {},
   "source": [
    "# MNIST Digits Classification"
   ]
  },
  {
   "cell_type": "markdown",
   "id": "8d076efb",
   "metadata": {},
   "source": [
    "## Import Libraries"
   ]
  },
  {
   "cell_type": "code",
   "execution_count": null,
   "id": "be4f0aea",
   "metadata": {},
   "outputs": [],
   "source": [
    "import tensorflow as tf\n",
    "from tf.keras.datasets import mnist"
   ]
  },
  {
   "cell_type": "markdown",
   "id": "f9f53ff8",
   "metadata": {},
   "source": [
    "## References"
   ]
  },
  {
   "cell_type": "markdown",
   "id": "ec88a00b",
   "metadata": {},
   "source": [
    "1. Beginner Deep Learning Tutorial | MNIST Digits Classification Neural Network in Python, Keras\n",
    "    - https://www.youtube.com/watch?v=BfCPxoYCgo0&t=1s"
   ]
  }
 ],
 "metadata": {
  "kernelspec": {
   "display_name": "Python 3",
   "language": "python",
   "name": "python3"
  },
  "language_info": {
   "codemirror_mode": {
    "name": "ipython",
    "version": 3
   },
   "file_extension": ".py",
   "mimetype": "text/x-python",
   "name": "python",
   "nbconvert_exporter": "python",
   "pygments_lexer": "ipython3",
   "version": "3.10.4"
  }
 },
 "nbformat": 4,
 "nbformat_minor": 5
}
