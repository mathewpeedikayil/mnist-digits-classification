{
 "cells": [
  {
   "cell_type": "markdown",
   "id": "507e7b0c",
   "metadata": {},
   "source": [
    "# MNIST Digits Classification"
   ]
  },
  {
   "cell_type": "markdown",
   "id": "f9f53ff8",
   "metadata": {},
   "source": [
    "## References"
   ]
  },
  {
   "cell_type": "markdown",
   "id": "ec88a00b",
   "metadata": {},
   "source": [
    "1. Beginner Deep Learning Tutorial | MNIST Digits Classification Neural Network in Python, Keras\n",
    "    - https://www.youtube.com/watch?v=BfCPxoYCgo0&t=1s"
   ]
  }
 ],
 "metadata": {
  "language_info": {
   "name": "python"
  }
 },
 "nbformat": 4,
 "nbformat_minor": 5
}
